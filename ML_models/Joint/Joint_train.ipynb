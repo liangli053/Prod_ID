{
 "cells": [
  {
   "cell_type": "markdown",
   "metadata": {},
   "source": [
    "# Jointed CNN (images) and DNN (tabular data)"
   ]
  },
  {
   "cell_type": "code",
   "execution_count": 1,
   "metadata": {},
   "outputs": [
    {
     "name": "stderr",
     "output_type": "stream",
     "text": [
      "Using TensorFlow backend.\n"
     ]
    }
   ],
   "source": [
    "%matplotlib inline\n",
    "import os\n",
    "import random\n",
    "import math\n",
    "import numpy as np\n",
    "import pandas as pd\n",
    "from collections import Counter\n",
    "from keras import regularizers\n",
    "from keras.preprocessing.text import Tokenizer\n",
    "from keras.preprocessing.sequence import pad_sequences\n",
    "from tensorflow.keras.initializers import Constant\n",
    "from keras.models import Model\n",
    "from keras.layers import Input, Embedding, concatenate, Flatten\n",
    "from keras.layers.core import Dense, Reshape, Lambda\n",
    "from keras.applications.vgg19 import VGG19\n",
    "#from keras.applications import MobileNet\n",
    "from keras.utils import to_categorical\n",
    "from keras.preprocessing.image import load_img, save_img, img_to_array\n",
    "import keras.backend as K\n",
    "import tensorflow as tf\n",
    "from tensorflow.keras.initializers import Constant\n",
    "from tensorflow import set_random_seed\n",
    "import matplotlib.pyplot as plt\n",
    "import matplotlib.image as mpimg\n",
    "from Joint_DataGenerator import DataGenerator\n",
    "import pickle\n",
    "from sklearn.metrics import classification_report, confusion_matrix"
   ]
  },
  {
   "cell_type": "markdown",
   "metadata": {},
   "source": [
    "## Paths and file names"
   ]
  },
  {
   "cell_type": "code",
   "execution_count": 2,
   "metadata": {},
   "outputs": [],
   "source": [
    "BASE_DIR = \"../..\"\n",
    "DATA_DIR = \"data\"\n",
    "IMG_DIR = \"images\"\n",
    "IMG_EMBEDDED_DIR = \"src/VGG19_FC2_embed\"\n",
    "DATA_FILE = \"balanced_data.csv\"\n",
    "WORD_EMBEDDING_DIM = 100\n",
    "GLOVE_DIR = \"glove.6B\"\n",
    "GLOVE_FILE = \"glove.6B.\" +  str(WORD_EMBEDDING_DIM) + 'd.txt'\n",
    "GLOVE_VOCSIZE = 400000\n",
    "INS_USERNAME_EMBEDDING_DIM = 20\n",
    "MAX_WORDS_IN_CAPTION = 40\n",
    "SPLIT_RATIO = [0.7, 0.15, 0.15] # training : validation : test\n",
    "\n",
    "data_path = os.path.join(BASE_DIR, DATA_DIR, DATA_FILE)\n",
    "img_path = os.path.join(BASE_DIR, IMG_DIR)\n",
    "imgEmbd_dir = os.path.join(BASE_DIR, IMG_EMBEDDED_DIR)"
   ]
  },
  {
   "cell_type": "markdown",
   "metadata": {},
   "source": [
    "## tabular data"
   ]
  },
  {
   "cell_type": "code",
   "execution_count": 3,
   "metadata": {},
   "outputs": [],
   "source": [
    "# read in data file\n",
    "data = pd.read_csv(data_path)\n",
    "# image data is too big to fit in memory\n",
    "# build a imgID-img_shortCode dictionary for data generator\n",
    "data.reset_index(drop=False, inplace=True)\n",
    "imgID_shortCode = {idx : code for idx, code in zip(data.index, data.media_shortcode)}\n",
    "\n",
    "# Dimensoins tabular data\n",
    "N_ins_username = data.poster_instagram_username.nunique()\n",
    "N_poster_account_type = data.poster_account_type.nunique()\n",
    "N_media_type =data.media_type.nunique()\n",
    "N_caption_type = data.caption_type.nunique()\n",
    "\n",
    "# dimension of raw input data, 1: ins_username and image ID\n",
    "raw_input_dim = MAX_WORDS_IN_CAPTION + N_poster_account_type + \\\n",
    "                N_media_type + N_caption_type + 1 + 1"
   ]
  },
  {
   "cell_type": "markdown",
   "metadata": {},
   "source": [
    "# Transform the tabular data to usable numerial data to feed in the network\n",
    "## Transform caption and username data -- for embedding"
   ]
  },
  {
   "cell_type": "code",
   "execution_count": 4,
   "metadata": {},
   "outputs": [
    {
     "name": "stdout",
     "output_type": "stream",
     "text": [
      "The size of the vocabulary is:  23376\n"
     ]
    }
   ],
   "source": [
    "# build word : vec dictionary from GloVe\n",
    "glove_path = os.path.join(BASE_DIR, GLOVE_DIR,  GLOVE_FILE)\n",
    "glove_index = {}\n",
    "with open(glove_path) as f:\n",
    "    for line in f:\n",
    "        word, coefs = line.split(maxsplit=1)\n",
    "        coefs = np.fromstring(coefs, dtype = 'float', sep=' ')\n",
    "        glove_index[word] = coefs\n",
    "\n",
    "# prepare tokenizer\n",
    "captions = data.media_caption.astype(str)\n",
    "token = Tokenizer()\n",
    "token.fit_on_texts(captions)\n",
    "vocab_size = len(token.word_index) + 1 # word_index is 1-indexed, puls 1-dim for OOV and padded words\n",
    "print(\"The size of the vocabulary is: \", vocab_size)\n",
    "\n",
    "# integer encode the documents\n",
    "encoded_captions = token.texts_to_sequences(captions)\n",
    "# pad captions that are less than MAX_WORDS_IN_CAPTION words\n",
    "padded_captions = pad_sequences(encoded_captions, maxlen=MAX_WORDS_IN_CAPTION, padding='post')"
   ]
  },
  {
   "cell_type": "code",
   "execution_count": 5,
   "metadata": {},
   "outputs": [],
   "source": [
    "# use \"represented_data\" matrix, to store the encoded data\n",
    "represented_data = padded_captions.copy()\n",
    "\n",
    "# create a weight matrix for all words in captions\n",
    "embedding_matrix = np.zeros((vocab_size, WORD_EMBEDDING_DIM))\n",
    "for word, idx in token.word_index.items(): # word_index is 1-indexed, zero vector for padding\n",
    "    embedding_vector = glove_index.get(word)\n",
    "    if embedding_vector is not None:\n",
    "        embedding_matrix[idx] = embedding_vector"
   ]
  },
  {
   "cell_type": "code",
   "execution_count": 6,
   "metadata": {},
   "outputs": [],
   "source": [
    "# poster_instagram_username N_ins_username dim categorial, needs to be embedded to INS_USERNAME_EMBEDDING_DIM dim\n",
    "def OrdinalEncoder(categories):\n",
    "    \"\"\" An ordinal Encoder for data pre-processing,\n",
    "        Not strictly ordinal, but does the work.\n",
    "    \n",
    "        Args:\n",
    "            categories: numpy arrary or list of categories              \n",
    "        Returns:\n",
    "            numpy array of ordinal encoded entries        \n",
    "    \"\"\"\n",
    "    counter = Counter(categories).most_common() # indices assigned based on number of occurances\n",
    "    unique_ctgrs = [x[0] for x in counter] # list of categories, guaranteed in fixed order due to sorting\n",
    "    encoder = {ctgr : idx for idx, ctgr in enumerate(unique_ctgrs)}\n",
    "        \n",
    "    res = [0] * len(categories)\n",
    "    res = [encoder[ctgr] for ctgr in categories]\n",
    "    return np.array(res, dtype='int')"
   ]
  },
  {
   "cell_type": "code",
   "execution_count": 7,
   "metadata": {},
   "outputs": [],
   "source": [
    "ins_usernames = data.poster_instagram_username\n",
    "encoded_ins_usernames = OrdinalEncoder(ins_usernames)\n",
    "encoded_ins_usernames = np.array(encoded_ins_usernames).reshape(-1, 1)\n",
    "# concatenate encoded_ins_usernames to represented_data\n",
    "represented_data = np.concatenate((represented_data, encoded_ins_usernames), axis = 1)"
   ]
  },
  {
   "cell_type": "code",
   "execution_count": 8,
   "metadata": {},
   "outputs": [
    {
     "name": "stdout",
     "output_type": "stream",
     "text": [
      "101914\n",
      "41\n"
     ]
    }
   ],
   "source": [
    "print(len(represented_data))\n",
    "print(len(represented_data[0]))"
   ]
  },
  {
   "cell_type": "markdown",
   "metadata": {},
   "source": [
    "## Transform poster_account_type, media_type and caption_type -- one-hot"
   ]
  },
  {
   "cell_type": "code",
   "execution_count": 9,
   "metadata": {},
   "outputs": [],
   "source": [
    "for ctgr in ['poster_account_type', 'media_type', 'caption_type']:\n",
    "    col=data[ctgr]\n",
    "    one_hot_encoded = to_categorical(OrdinalEncoder(col))\n",
    "    represented_data = np.concatenate((represented_data, one_hot_encoded), axis = 1)"
   ]
  },
  {
   "cell_type": "markdown",
   "metadata": {},
   "source": [
    "## Last piece of raw input: numerical ID of images, use it to locate img short code"
   ]
  },
  {
   "cell_type": "code",
   "execution_count": 10,
   "metadata": {},
   "outputs": [],
   "source": [
    "imgID_arr=np.array(data.index).reshape(-1,1)\n",
    "represented_data = np.concatenate((represented_data, imgID_arr), axis = 1)"
   ]
  },
  {
   "cell_type": "code",
   "execution_count": 11,
   "metadata": {},
   "outputs": [
    {
     "name": "stdout",
     "output_type": "stream",
     "text": [
      "(101914, 59)\n",
      "59\n"
     ]
    }
   ],
   "source": [
    "print(represented_data.shape)\n",
    "print(len(represented_data[0]))\n",
    "if len(represented_data[0]) != raw_input_dim:\n",
    "    print(\"Input dimension is wrong!\")"
   ]
  },
  {
   "cell_type": "markdown",
   "metadata": {},
   "source": [
    "# Split all data into training, validation and test sets\n",
    "## Multi-hot encoding for multi-labels"
   ]
  },
  {
   "cell_type": "code",
   "execution_count": 12,
   "metadata": {},
   "outputs": [],
   "source": [
    "def multi_hot_encoding(labels):\n",
    "    \"\"\" multi-hot encoding for the labels of each meida post \n",
    "        Args:\n",
    "            labels: list, dimension of rows may not be same\n",
    "        Return:\n",
    "            num_of_classes: int, total number of classes\n",
    "            res: array, num_of_examples x num_of_classes, multi-hot encoded array\n",
    "    \"\"\"\n",
    "    # number of classes\n",
    "    num_examples, min_idx, max_idx = len(labels), float('inf'), -float('inf')\n",
    "    for row in labels:\n",
    "        for col in row:\n",
    "            if col < min_idx:\n",
    "                min_idx = col\n",
    "            if col > max_idx:\n",
    "                max_idx = col\n",
    "    num_of_classes = max_idx - min_idx + 1\n",
    "    \n",
    "    res = np.zeros((num_examples, max_idx-min_idx+1), dtype = int)\n",
    "    for row in range(len(labels)):\n",
    "        lbls = labels[row]\n",
    "        for col in lbls:\n",
    "            res[row, col] = 1\n",
    "    return num_of_classes, res"
   ]
  },
  {
   "cell_type": "code",
   "execution_count": 13,
   "metadata": {},
   "outputs": [],
   "source": [
    "labels_str = data.label.values\n",
    "labels = []\n",
    "for str_label in labels_str:\n",
    "    label = [int(i) for i in str_label[1:-1].split(',')]\n",
    "    labels.append(label)\n",
    "\n",
    "num_of_classes, encoded_labels_arr = multi_hot_encoding(labels)\n",
    "represented_data = np.concatenate((represented_data, encoded_labels_arr), axis = 1)"
   ]
  },
  {
   "cell_type": "code",
   "execution_count": 14,
   "metadata": {},
   "outputs": [],
   "source": [
    "def split_data(orig_data, split_ratio, num_of_classes):\n",
    "    \"\"\" Split dataframe into train, validation and test datasets.\"\"\"\n",
    "    \n",
    "    np.random.seed(42)\n",
    "    np.random.shuffle(orig_data)\n",
    "    data_after_split, tmp, length = {}, {}, len(orig_data)\n",
    "    \n",
    "    tmp['train'], tmp['val'], tmp['test'] = np.split(\n",
    "        orig_data, [int(split_ratio[0] * length), int(1 - split_ratio[2] * length)], axis=0)\n",
    "    \n",
    "    for sett in ['train', 'val', 'test']:\n",
    "        X = tmp[sett][:, :-num_of_classes]\n",
    "        Y = tmp[sett][:, -num_of_classes:]\n",
    "        data_after_split['X' + '_' + sett] = X\n",
    "        data_after_split['Y' + '_' + sett] = Y\n",
    "\n",
    "    print(data_after_split['X_train'].shape, data_after_split['Y_train'].shape,\n",
    "          data_after_split['X_val'].shape, data_after_split['Y_val'].shape,\n",
    "          data_after_split['X_test'].shape, data_after_split['Y_test'].shape)\n",
    "    return data_after_split"
   ]
  },
  {
   "cell_type": "code",
   "execution_count": 15,
   "metadata": {},
   "outputs": [
    {
     "name": "stdout",
     "output_type": "stream",
     "text": [
      "(101914, 99)\n",
      "(71339, 59) (71339, 40) (15289, 59) (15289, 40) (15286, 59) (15286, 40)\n"
     ]
    }
   ],
   "source": [
    "print(represented_data.shape)\n",
    "data_after_split = split_data(represented_data, SPLIT_RATIO, num_of_classes)"
   ]
  },
  {
   "cell_type": "markdown",
   "metadata": {},
   "source": [
    "## Build and train the joint model"
   ]
  },
  {
   "cell_type": "code",
   "execution_count": 16,
   "metadata": {},
   "outputs": [
    {
     "name": "stdout",
     "output_type": "stream",
     "text": [
      "WARNING:tensorflow:From /Users/liangli/.local/lib/python3.7/site-packages/tensorflow/python/framework/op_def_library.py:263: colocate_with (from tensorflow.python.framework.ops) is deprecated and will be removed in a future version.\n",
      "Instructions for updating:\n",
      "Colocations handled automatically by placer.\n",
      "WARNING:tensorflow:From <ipython-input-16-452ee68405cb>:77: to_float (from tensorflow.python.ops.math_ops) is deprecated and will be removed in a future version.\n",
      "Instructions for updating:\n",
      "Use tf.cast instead.\n",
      "__________________________________________________________________________________________________\n",
      "Layer (type)                    Output Shape         Param #     Connected to                     \n",
      "==================================================================================================\n",
      "input_1 (InputLayer)            (None, 40)           0                                            \n",
      "__________________________________________________________________________________________________\n",
      "input_4 (InputLayer)            (None, 4096)         0                                            \n",
      "__________________________________________________________________________________________________\n",
      "word_emb (Embedding)            (None, 40, 100)      2337600     input_1[0][0]                    \n",
      "__________________________________________________________________________________________________\n",
      "input_2 (InputLayer)            (None, 1)            0                                            \n",
      "__________________________________________________________________________________________________\n",
      "dense_1 (Dense)                 (None, 1024)         4195328     input_4[0][0]                    \n",
      "__________________________________________________________________________________________________\n",
      "lambda_1 (Lambda)               (None, 100)          0           word_emb[0][0]                   \n",
      "__________________________________________________________________________________________________\n",
      "insID_emb (Embedding)           (None, 1, 20)        26740       input_2[0][0]                    \n",
      "__________________________________________________________________________________________________\n",
      "dense_2 (Dense)                 (None, 512)          524800      dense_1[0][0]                    \n",
      "__________________________________________________________________________________________________\n",
      "reshape_1 (Reshape)             (None, 100)          0           lambda_1[0][0]                   \n",
      "__________________________________________________________________________________________________\n",
      "reshape_2 (Reshape)             (None, 20)           0           insID_emb[0][0]                  \n",
      "__________________________________________________________________________________________________\n",
      "input_3 (InputLayer)            (None, 17)           0                                            \n",
      "__________________________________________________________________________________________________\n",
      "dense_3 (Dense)                 (None, 256)          131328      dense_2[0][0]                    \n",
      "__________________________________________________________________________________________________\n",
      "concatenate_1 (Concatenate)     (None, 393)          0           reshape_1[0][0]                  \n",
      "                                                                 reshape_2[0][0]                  \n",
      "                                                                 input_3[0][0]                    \n",
      "                                                                 dense_3[0][0]                    \n",
      "__________________________________________________________________________________________________\n",
      "dense_4 (Dense)                 (None, 128)          50432       concatenate_1[0][0]              \n",
      "__________________________________________________________________________________________________\n",
      "dense_5 (Dense)                 (None, 64)           8256        dense_4[0][0]                    \n",
      "__________________________________________________________________________________________________\n",
      "dense_6 (Dense)                 (None, 40)           2600        dense_5[0][0]                    \n",
      "==================================================================================================\n",
      "Total params: 7,277,084\n",
      "Trainable params: 7,277,084\n",
      "Non-trainable params: 0\n",
      "__________________________________________________________________________________________________\n",
      "None\n",
      "WARNING:tensorflow:From /Users/liangli/.local/lib/python3.7/site-packages/tensorflow/python/ops/math_ops.py:3066: to_int32 (from tensorflow.python.ops.math_ops) is deprecated and will be removed in a future version.\n",
      "Instructions for updating:\n",
      "Use tf.cast instead.\n",
      "Epoch 1/25\n",
      "558/558 [==============================] - 88s 157ms/step - loss: 0.2308 - precision: 0.6671 - recall: 0.0334 - exact_match_ratio: 0.0355 - val_loss: 0.1540 - val_precision: 0.8942 - val_recall: 0.0680 - val_exact_match_ratio: 0.0861\n",
      "Epoch 2/25\n",
      "558/558 [==============================] - 94s 169ms/step - loss: 0.1400 - precision: 0.7818 - recall: 0.1290 - exact_match_ratio: 0.1308 - val_loss: 0.1271 - val_precision: 0.7755 - val_recall: 0.1634 - val_exact_match_ratio: 0.1582\n",
      "Epoch 3/25\n",
      "558/558 [==============================] - 93s 167ms/step - loss: 0.1220 - precision: 0.7654 - recall: 0.1850 - exact_match_ratio: 0.1767 - val_loss: 0.1145 - val_precision: 0.7971 - val_recall: 0.2048 - val_exact_match_ratio: 0.2025\n",
      "Epoch 4/25\n",
      "558/558 [==============================] - 107s 191ms/step - loss: 0.1110 - precision: 0.7788 - recall: 0.2345 - exact_match_ratio: 0.2229 - val_loss: 0.1063 - val_precision: 0.7649 - val_recall: 0.2856 - val_exact_match_ratio: 0.2647\n",
      "Epoch 5/25\n",
      "558/558 [==============================] - 103s 184ms/step - loss: 0.1029 - precision: 0.7941 - recall: 0.2820 - exact_match_ratio: 0.2667 - val_loss: 0.0999 - val_precision: 0.8128 - val_recall: 0.2896 - val_exact_match_ratio: 0.2794\n",
      "Epoch 6/25\n",
      "558/558 [==============================] - 99s 177ms/step - loss: 0.0974 - precision: 0.8040 - recall: 0.3236 - exact_match_ratio: 0.3069 - val_loss: 0.0957 - val_precision: 0.7849 - val_recall: 0.3618 - val_exact_match_ratio: 0.3327\n",
      "Epoch 7/25\n",
      "558/558 [==============================] - 98s 177ms/step - loss: 0.0931 - precision: 0.8158 - recall: 0.3646 - exact_match_ratio: 0.3449 - val_loss: 0.0925 - val_precision: 0.8014 - val_recall: 0.3979 - val_exact_match_ratio: 0.3675\n",
      "Epoch 8/25\n",
      "558/558 [==============================] - 97s 173ms/step - loss: 0.0901 - precision: 0.8230 - recall: 0.3961 - exact_match_ratio: 0.3751 - val_loss: 0.0903 - val_precision: 0.8216 - val_recall: 0.3987 - val_exact_match_ratio: 0.3785\n",
      "Epoch 9/25\n",
      "558/558 [==============================] - 100s 180ms/step - loss: 0.0877 - precision: 0.8296 - recall: 0.4230 - exact_match_ratio: 0.4021 - val_loss: 0.0890 - val_precision: 0.8121 - val_recall: 0.4366 - val_exact_match_ratio: 0.4028\n",
      "Epoch 10/25\n",
      "558/558 [==============================] - 100s 180ms/step - loss: 0.0858 - precision: 0.8333 - recall: 0.4443 - exact_match_ratio: 0.4238 - val_loss: 0.0876 - val_precision: 0.8098 - val_recall: 0.4663 - val_exact_match_ratio: 0.4372\n",
      "Epoch 11/25\n",
      "558/558 [==============================] - 97s 174ms/step - loss: 0.0842 - precision: 0.8397 - recall: 0.4636 - exact_match_ratio: 0.4435 - val_loss: 0.0861 - val_precision: 0.8294 - val_recall: 0.4621 - val_exact_match_ratio: 0.4386\n",
      "Epoch 12/25\n",
      "558/558 [==============================] - 97s 175ms/step - loss: 0.0827 - precision: 0.8457 - recall: 0.4778 - exact_match_ratio: 0.4597 - val_loss: 0.0849 - val_precision: 0.8449 - val_recall: 0.4615 - val_exact_match_ratio: 0.4533\n",
      "Epoch 13/25\n",
      "558/558 [==============================] - 100s 178ms/step - loss: 0.0813 - precision: 0.8504 - recall: 0.4932 - exact_match_ratio: 0.4744 - val_loss: 0.0835 - val_precision: 0.8304 - val_recall: 0.4994 - val_exact_match_ratio: 0.4785\n",
      "Epoch 14/25\n",
      "558/558 [==============================] - 96s 172ms/step - loss: 0.0801 - precision: 0.8529 - recall: 0.5029 - exact_match_ratio: 0.4848 - val_loss: 0.0829 - val_precision: 0.8453 - val_recall: 0.4888 - val_exact_match_ratio: 0.4776\n",
      "Epoch 15/25\n",
      "558/558 [==============================] - 99s 177ms/step - loss: 0.0790 - precision: 0.8573 - recall: 0.5140 - exact_match_ratio: 0.4971 - val_loss: 0.0820 - val_precision: 0.8528 - val_recall: 0.4968 - val_exact_match_ratio: 0.4867\n",
      "Epoch 16/25\n",
      "558/558 [==============================] - 97s 175ms/step - loss: 0.0779 - precision: 0.8610 - recall: 0.5256 - exact_match_ratio: 0.5088 - val_loss: 0.0820 - val_precision: 0.8603 - val_recall: 0.4899 - val_exact_match_ratio: 0.4792\n",
      "Epoch 17/25\n",
      "558/558 [==============================] - 98s 175ms/step - loss: 0.0770 - precision: 0.8635 - recall: 0.5336 - exact_match_ratio: 0.5184 - val_loss: 0.0810 - val_precision: 0.8478 - val_recall: 0.5247 - val_exact_match_ratio: 0.5061\n",
      "Epoch 18/25\n",
      "558/558 [==============================] - 97s 175ms/step - loss: 0.0760 - precision: 0.8649 - recall: 0.5427 - exact_match_ratio: 0.5257 - val_loss: 0.0807 - val_precision: 0.8518 - val_recall: 0.5196 - val_exact_match_ratio: 0.5053\n",
      "Epoch 19/25\n",
      "558/558 [==============================] - 99s 178ms/step - loss: 0.0754 - precision: 0.8695 - recall: 0.5508 - exact_match_ratio: 0.5360 - val_loss: 0.0800 - val_precision: 0.8649 - val_recall: 0.5168 - val_exact_match_ratio: 0.5084\n",
      "Epoch 20/25\n",
      "558/558 [==============================] - 103s 184ms/step - loss: 0.0745 - precision: 0.8732 - recall: 0.5586 - exact_match_ratio: 0.5436 - val_loss: 0.0799 - val_precision: 0.8545 - val_recall: 0.5314 - val_exact_match_ratio: 0.5178\n",
      "Epoch 21/25\n",
      "558/558 [==============================] - 102s 183ms/step - loss: 0.0739 - precision: 0.8736 - recall: 0.5648 - exact_match_ratio: 0.5488 - val_loss: 0.0796 - val_precision: 0.8632 - val_recall: 0.5225 - val_exact_match_ratio: 0.5133\n",
      "Epoch 22/25\n",
      "558/558 [==============================] - 96s 172ms/step - loss: 0.0732 - precision: 0.8760 - recall: 0.5701 - exact_match_ratio: 0.5564 - val_loss: 0.0791 - val_precision: 0.8536 - val_recall: 0.5425 - val_exact_match_ratio: 0.5275\n",
      "Epoch 23/25\n",
      "558/558 [==============================] - 98s 175ms/step - loss: 0.0726 - precision: 0.8774 - recall: 0.5766 - exact_match_ratio: 0.5620 - val_loss: 0.0792 - val_precision: 0.8565 - val_recall: 0.5322 - val_exact_match_ratio: 0.5227\n",
      "Epoch 24/25\n",
      "558/558 [==============================] - 100s 179ms/step - loss: 0.0719 - precision: 0.8793 - recall: 0.5819 - exact_match_ratio: 0.5675 - val_loss: 0.0786 - val_precision: 0.8571 - val_recall: 0.5494 - val_exact_match_ratio: 0.5378\n",
      "Epoch 25/25\n",
      "558/558 [==============================] - 101s 181ms/step - loss: 0.0716 - precision: 0.8812 - recall: 0.5874 - exact_match_ratio: 0.5734 - val_loss: 0.0777 - val_precision: 0.8448 - val_recall: 0.5726 - val_exact_match_ratio: 0.5517\n"
     ]
    }
   ],
   "source": [
    "# To ensure reproducible results\n",
    "# https://keras.io/getting-started/faq/#how-can-i-obtain-reproducible-results-using-keras-during-development\n",
    "np.random.seed(42)\n",
    "random.seed(42)\n",
    "session_conf = tf.ConfigProto(intra_op_parallelism_threads=1,\n",
    "                              inter_op_parallelism_threads=1)\n",
    "tf.set_random_seed(42)\n",
    "sess = tf.Session(graph=tf.get_default_graph(), config=session_conf)\n",
    "K.set_session(sess)\n",
    "\n",
    "# Specify inputs, categorial one-hot and images are 4096-dim vectors\n",
    "media_caption_in = Input(shape=(MAX_WORDS_IN_CAPTION,))\n",
    "poster_instagram_username_in = Input(shape=(1,))\n",
    "other_categorical_in = Input(shape=(N_poster_account_type + N_media_type + N_caption_type, ))\n",
    "image_in = Input(shape=(4096,))\n",
    "\n",
    "#regularization coefficient\n",
    "regularizer_param = 0.0001\n",
    "\n",
    "# Two Embedding layers\n",
    "caption_embedding = Embedding(input_dim=vocab_size, output_dim=WORD_EMBEDDING_DIM, \n",
    "                              embeddings_initializer=Constant(embedding_matrix), \n",
    "                              input_length=MAX_WORDS_IN_CAPTION, trainable=True, \n",
    "                              name = 'word_emb')(media_caption_in)\n",
    "\n",
    "ins_username_embedding = Embedding(N_ins_username, INS_USERNAME_EMBEDDING_DIM, \n",
    "                                   name = 'insID_emb')(poster_instagram_username_in)\n",
    "\n",
    "# Average and reshape the caption and ins_username embedding\n",
    "# Total dim of tabular data is 100 + 20 + 5+ 6 + 6 = 137\n",
    "avg_caption_embedding = Lambda(lambda x: K.mean(x, axis = 1, keepdims=False))(caption_embedding)\n",
    "reshape_caption_embedding = Reshape(target_shape=(WORD_EMBEDDING_DIM,))\n",
    "reshape_ins_username = Reshape(target_shape=(INS_USERNAME_EMBEDDING_DIM,))\n",
    "\n",
    "# FC layers for image data, output a 256-dim vector\n",
    "image=Dense(1024, activation='relu',\n",
    "       kernel_regularizer=regularizers.l2(regularizer_param))(image_in)\n",
    "image=Dense(512, activation='relu',\n",
    "       kernel_regularizer=regularizers.l2(regularizer_param))(image)\n",
    "image=Dense(256, activation='relu',\n",
    "       kernel_regularizer=regularizers.l2(regularizer_param))(image)\n",
    "\n",
    "# Combine the tabular and image input, dim = 137+256 = 393\n",
    "combined = concatenate([reshape_caption_embedding(avg_caption_embedding), \n",
    "                  reshape_ins_username(ins_username_embedding), other_categorical_in, image])\n",
    "    \n",
    "# Another two FC layers after concatenation\n",
    "hidden_1 = Dense(128, activation='relu', \n",
    "                 kernel_regularizer=regularizers.l2(regularizer_param))(combined)\n",
    "hidden_2 = Dense(64, activation='relu', \n",
    "                 kernel_regularizer=regularizers.l2(regularizer_param))(hidden_1)\n",
    "output = Dense(num_of_classes, activation='sigmoid',\n",
    "               kernel_regularizer=regularizers.l2(regularizer_param))(hidden_2)\n",
    "\n",
    "# Compile with categorical crossentropy and adam\n",
    "model = Model(inputs=[media_caption_in, poster_instagram_username_in, other_categorical_in, image_in], \n",
    "              outputs = [output])\n",
    "\n",
    "def precision(y_true, y_pred):\n",
    "    #Precision metric.\n",
    "    y_pred = K.cast(K.greater(y_pred,0.5),dtype=float)\n",
    "    true_positives = K.sum(K.round(y_true * y_pred))\n",
    "    predicted_positives = K.sum(K.round(y_pred))\n",
    "    precision = true_positives / (predicted_positives + K.epsilon())\n",
    "    return precision\n",
    "\n",
    "def recall(y_true, y_pred):\n",
    "    #Recall metric.\n",
    "    y_pred = K.cast(K.greater(y_pred,0.5),dtype=float)\n",
    "    true_positives = K.sum(K.round(y_true * y_pred))\n",
    "    actural_positives = K.sum(K.round(y_true))\n",
    "    recall = true_positives / (actural_positives + K.epsilon())\n",
    "    return recall\n",
    "\n",
    "def exact_match_ratio(y_true, y_pred):\n",
    "    #pred = tf.equal(tf.round(y_logits), tf.round(y_true))\n",
    "    predictions = tf.to_float(tf.greater_equal(y_pred, 0.5))\n",
    "    pred_match = tf.equal(predictions, tf.round(y_true))\n",
    "    exact_match = tf.reduce_min(tf.to_float(pred_match), axis=1)\n",
    "    return tf.reduce_mean(exact_match)  \n",
    "\n",
    "model.compile(loss='binary_crossentropy', \n",
    "            optimizer='adam', metrics=[precision, recall, exact_match_ratio])\n",
    "\n",
    "print(model.summary())\n",
    "\n",
    "# Compile model\n",
    "batch_size = 128\n",
    "\n",
    "training_generator = DataGenerator(data_after_split['X_train'], data_after_split['Y_train'],\n",
    "                                      imgID_shortCode, imgEmbd_dir, batch_size, MAX_WORDS_IN_CAPTION)\n",
    "\n",
    "validation_generator = DataGenerator(data_after_split['X_val'], data_after_split['Y_val'],\n",
    "                                      imgID_shortCode, imgEmbd_dir, batch_size, MAX_WORDS_IN_CAPTION)\n",
    "    \n",
    "# validation_steps: Total number of steps (batches of samples) to yield from validation_data generator \n",
    "# before stopping at the end of every epoch. It should typically be equal to the number of samples of \n",
    "# your validation dataset divided by the batch size.\n",
    "history = model.fit_generator(generator=training_generator, validation_data = validation_generator,\n",
    "                    steps_per_epoch = int(math.ceil(len(data_after_split['X_train']) / batch_size)),\n",
    "                    validation_steps = int(math.ceil(len(data_after_split['X_val']) / batch_size)),\n",
    "                    shuffle=True, epochs=25)"
   ]
  },
  {
   "cell_type": "code",
   "execution_count": 17,
   "metadata": {},
   "outputs": [],
   "source": [
    "with open('Joint_history', 'wb') as fin:\n",
    "        pickle.dump(history.history, fin)\n",
    "model.save('Joint_model.h5')"
   ]
  },
  {
   "cell_type": "code",
   "execution_count": 18,
   "metadata": {},
   "outputs": [
    {
     "data": {
      "text/plain": [
       "[<matplotlib.lines.Line2D at 0x1a3ddf8fd0>]"
      ]
     },
     "execution_count": 18,
     "metadata": {},
     "output_type": "execute_result"
    },
    {
     "data": {
      "image/png": "[encoded data removed]",
      "text/plain": [
       "<Figure size 432x288 with 1 Axes>"
      ]
     },
     "metadata": {
      "needs_background": "light"
     },
     "output_type": "display_data"
    }
   ],
   "source": [
    "plt.plot(history.history['loss'])\n",
    "plt.plot(history.history['val_loss'])"
   ]
  },
  {
   "cell_type": "code",
   "execution_count": 19,
   "metadata": {},
   "outputs": [],
   "source": [
    "def get_precision(y_true, y_pred):\n",
    "    #Precision metric.\n",
    "    y_pred[y_pred >= 0.5] = 1\n",
    "    y_pred[y_pred <0.5] = 0\n",
    "    true_positives = np.sum(y_pred*y_true)\n",
    "    predicted_positives = np.sum(y_pred)\n",
    "    return true_positives / predicted_positives\n",
    "\n",
    "def get_recall(y_true, y_pred):\n",
    "    #Recall metric.\n",
    "    y_pred[y_pred >= 0.5] = 1\n",
    "    y_pred[y_pred <0.5] = 0\n",
    "    true_positives = np.sum(y_pred*y_true)\n",
    "    actural_positives = np.sum(y_true)\n",
    "    return true_positives / actural_positives\n",
    "\n",
    "def get_exact_match_ratio(y_true, y_pred):\n",
    "    match = np.equal(y_pred, y_true)\n",
    "    match = np.amin(match, axis=1)\n",
    "    exact_match_ratio = np.mean(match)\n",
    "    return exact_match_ratio"
   ]
  },
  {
   "cell_type": "code",
   "execution_count": 20,
   "metadata": {},
   "outputs": [
    {
     "name": "stdout",
     "output_type": "stream",
     "text": [
      "precision, recall and exact match ratio for test set are 0.8324, 0.5634 and 0.5408\n"
     ]
    }
   ],
   "source": [
    "# test set data generator, note tht batch size = number of samples\n",
    "test_generator = DataGenerator(data_after_split['X_test'], data_after_split['Y_test'],\n",
    "                                      imgID_shortCode, imgEmbd_dir, batch_size=len(data_after_split['X_test']))\n",
    "\n",
    "y_pred = model.predict_generator(generator=test_generator)\n",
    "y_true = data_after_split['Y_test']\n",
    "\n",
    "precision, recall,  = get_precision(y_true, y_pred), get_recall(y_true, y_pred)\n",
    "exact_math_ratio = get_exact_match_ratio(y_true, y_pred)\n",
    "\n",
    "print(\"precision, recall and exact match ratio for test set are %.4f, %.4f and %.4f\" \\\n",
    "      %(precision, recall, exact_math_ratio))"
   ]
  },
  {
   "cell_type": "code",
   "execution_count": 21,
   "metadata": {},
   "outputs": [],
   "source": [
    "classID_className = {0: 'color cosmetics:eye:eyebrow', 1: 'skincare:skincare:moisturizer', 2: 'color cosmetics:eye:eyeshadow', 3: 'color cosmetics:eye:mascara', 4: 'accessories:accessories:brush', 5: 'fragrance:fragrance:fragrance', 6: 'skincare:skincare:cleanser', 7: 'accessories:accessories:tool', 8: 'nail:nail:nail polish', 9: 'color cosmetics:eye:eye palette', 10: 'bath body:bath body:wash', 11: 'hair:style:styling products', 12: 'skincare:skincare:treatments', 13: 'color cosmetics:face:powder', 14: 'skincare:skincare:mask', 15: 'bath body:bath body:body lotion', 16: 'hair:cleanse:conditioner', 17: 'color cosmetics:cheek:cheek palette', 18: 'color cosmetics:lip:lipstick', 19: 'hair:treat:hair treatments', 20: 'color cosmetics:cheek:highlighter', 21: 'hair:cleanse:shampoo', 22: 'color cosmetics:face:setting spray', 23: 'color cosmetics:cheek:blush', 24: 'skincare:skincare:face suncare', 25: 'color cosmetics:eye:eyeliner', 26: 'color cosmetics:face:face palette', 27: 'color cosmetics:face:foundation', 28: 'color cosmetics:lip:lip balm', 29: 'skincare:skincare:face mist', 30: 'skincare:skincare:eyecare', 31: 'color cosmetics:eye:lash', 32: 'color cosmetics:lip:lip gloss', 33: 'color cosmetics:face:face primer', 34: 'color cosmetics:face:concealer', 35: 'color cosmetics:cheek:bronzer', 36: 'skincare:skincare:toner', 37: 'color cosmetics:lip:lip liner', 38: 'bath body:bath body:body suncare', 39: 'bath body:bath body:body glitter'}"
   ]
  },
  {
   "cell_type": "code",
   "execution_count": 22,
   "metadata": {},
   "outputs": [
    {
     "name": "stdout",
     "output_type": "stream",
     "text": [
      "                  precision    recall  f1-score   support\n",
      "\n",
      "         eyebrow       0.67      0.33      0.45       326\n",
      "     moisturizer       0.42      0.10      0.16       405\n",
      "       eyeshadow       0.64      0.05      0.10       311\n",
      "         mascara       0.90      0.52      0.66       613\n",
      "           brush       0.93      0.57      0.70       498\n",
      "       fragrance       0.94      0.71      0.81       480\n",
      "        cleanser       0.82      0.46      0.59       662\n",
      "            tool       0.91      0.78      0.84       953\n",
      "     nail polish       0.99      0.90      0.94       506\n",
      "     eye palette       0.73      0.54      0.62       880\n",
      "            wash       0.85      0.73      0.79       534\n",
      "styling products       0.85      0.71      0.78       771\n",
      "      treatments       0.73      0.59      0.65       844\n",
      "          powder       0.78      0.27      0.40       438\n",
      "            mask       0.73      0.20      0.31       292\n",
      "     body lotion       0.73      0.64      0.68       565\n",
      "     conditioner       0.78      0.81      0.80       632\n",
      "   cheek palette       0.81      0.34      0.47       650\n",
      "        lipstick       0.74      0.50      0.59      1003\n",
      " hair treatments       0.82      0.73      0.77       516\n",
      "     highlighter       0.43      0.13      0.20       414\n",
      "         shampoo       0.86      0.79      0.82       777\n",
      "   setting spray       0.94      0.64      0.76       556\n",
      "           blush       0.78      0.22      0.34       336\n",
      "    face suncare       0.89      0.77      0.82       501\n",
      "        eyeliner       0.63      0.18      0.27       291\n",
      "    face palette       0.83      0.58      0.68       655\n",
      "      foundation       0.57      0.19      0.29       475\n",
      "        lip balm       0.82      0.72      0.77       625\n",
      "       face mist       0.82      0.54      0.65       441\n",
      "         eyecare       0.85      0.53      0.66       517\n",
      "            lash       0.95      0.87      0.91       798\n",
      "       lip gloss       0.85      0.04      0.07       310\n",
      "     face primer       0.82      0.33      0.47       469\n",
      "       concealer       0.82      0.38      0.52       569\n",
      "         bronzer       0.84      0.59      0.69       638\n",
      "           toner       0.83      0.59      0.69       403\n",
      "       lip liner       0.82      0.56      0.66       520\n",
      "    body suncare       0.94      0.88      0.91       561\n",
      "    body glitter       0.91      0.83      0.87       536\n",
      "\n",
      "       micro avg       0.83      0.56      0.67     22271\n",
      "       macro avg       0.80      0.52      0.60     22271\n",
      "    weighted avg       0.81      0.56      0.65     22271\n",
      "     samples avg       0.66      0.64      0.64     22271\n",
      "\n"
     ]
    },
    {
     "name": "stderr",
     "output_type": "stream",
     "text": [
      "/anaconda3/lib/python3.7/site-packages/sklearn/metrics/classification.py:1143: UndefinedMetricWarning: Precision and F-score are ill-defined and being set to 0.0 in samples with no predicted labels.\n",
      "  'precision', 'predicted', average, warn_for)\n"
     ]
    }
   ],
   "source": [
    "target_names = [i.split(':')[2] for i in classID_className.values()]\n",
    "report= classification_report(y_true, y_pred, target_names = target_names)\n",
    "print(report)"
   ]
  },
  {
   "cell_type": "markdown",
   "metadata": {},
   "source": [
    "# What did we get wrong?"
   ]
  },
  {
   "cell_type": "code",
   "execution_count": 23,
   "metadata": {},
   "outputs": [],
   "source": [
    "%matplotlib inline\n",
    "import numpy as np\n",
    "import matplotlib.pyplot as plt\n",
    "import seaborn as sns"
   ]
  },
  {
   "cell_type": "code",
   "execution_count": 24,
   "metadata": {},
   "outputs": [
    {
     "data": {
      "text/plain": [
       "<Figure size 1080x576 with 0 Axes>"
      ]
     },
     "metadata": {},
     "output_type": "display_data"
    },
    {
     "data": {
      "image/png": "[encoded data removed]",
      "text/plain": [
       "<Figure size 1296x432 with 2 Axes>"
      ]
     },
     "metadata": {},
     "output_type": "display_data"
    }
   ],
   "source": [
    "# precision, reall, exact match ratio\n",
    "Low_f1 = [0.07, 0.10, 0.16, 0.20, 0.27]\n",
    "High_f1 = [0.84, 0.87, 0.91, 0.91, 0.94]\n",
    "\n",
    "# Draw barplots\n",
    "LowF1_products = [\"lip gloss\", \"eyeshadow\", \"moisturizer\", \"highlighter\", \"eyeliner\"]\n",
    "HighF1_products = [\"tools\", \"body glitter\", \"eyelash\", \"body suncare\", \"nail polish\"]\n",
    "sns.set(font_scale = 1.8)\n",
    "plt.figure(figsize=(15,8))\n",
    "fig, axes = plt.subplots(1, 2, figsize=(18, 6), facecolor='w', edgecolor='k')\n",
    "\n",
    "sns.set(font_scale = 1.8)\n",
    "for axe, f1, products, title in zip(axes.flat, [Low_f1, High_f1], \n",
    "                            [LowF1_products, HighF1_products], ['low F1 cores', 'high F1 scores']):\n",
    "    sns.barplot(products, f1, ax=axe)\n",
    "    #axe = sns.barplot(metrics, data)\n",
    "    for item in axe.get_xticklabels():\n",
    "        item.set_rotation(20)\n",
    "    axe.set_title(title, fontsize=24)\n",
    "    #axe.set_xlabel('metric', size=26)\n",
    "    axe.tick_params(axis='both', labelsize=28)\n",
    "    axe.set_ylim([0, 1])\n",
    "    \n",
    "    ##add the text labels for each bar\n",
    "    #rects = axe.patches\n",
    "    #labels = [str(\"%.2f\" %i) for i in f1]\n",
    "    #for rect, label in zip(rects, labels):\n",
    "    #    height = rect.get_height()\n",
    "    #    axe.text(rect.get_x() + rect.get_width()/2, height, label, ha='center', va='bottom', fontsize=22)"
   ]
  }
 ],
 "metadata": {
  "kernelspec": {
   "display_name": "Python 3",
   "language": "python",
   "name": "python3"
  },
  "language_info": {
   "codemirror_mode": {
    "name": "ipython",
    "version": 3
   },
   "file_extension": ".py",
   "mimetype": "text/x-python",
   "name": "python",
   "nbconvert_exporter": "python",
   "pygments_lexer": "ipython3",
   "version": "3.7.1"
  }
 },
 "nbformat": 4,
 "nbformat_minor": 2
}
